{
 "cells": [
  {
   "cell_type": "markdown",
   "metadata": {},
   "source": [
    "<center><a href=\"https://www.nvidia.com/dli\"> <img src=\"images/DLI_Header.png\" alt=\"Header\" style=\"width: 400px;\"/> </a></center>"
   ]
  },
  {
   "cell_type": "markdown",
   "metadata": {},
   "source": [
    "# Assessment"
   ]
  },
  {
   "cell_type": "markdown",
   "metadata": {},
   "source": [
    "Congratulations on going through today's course! Hopefully, you've learned some valuable skills along the way and had fun doing it. Now it's time to put those skills to the test. In this assessment, you will train a new model that is able to recognize fresh and rotten fruit. You will need to get the model to a validation accuracy of `92%` in order to pass the assessment, though we challenge you to do even better if you can. You will have the use the skills that you learned in the previous exercises. Specifically, we suggest using some combination of transfer learning, data augmentation, and fine tuning. Once you have trained the model to be at least 92% accurate on the validation dataset, save your model, and then assess its accuracy. Let's get started! "
   ]
  },
  {
   "cell_type": "markdown",
   "metadata": {},
   "source": [
    "## The Dataset"
   ]
  },
  {
   "cell_type": "markdown",
   "metadata": {},
   "source": [
    "In this exercise, you will train a model to recognize fresh and rotten fruits. The dataset comes from [Kaggle](https://www.kaggle.com/sriramr/fruits-fresh-and-rotten-for-classification), a great place to go if you're interested in starting a project after this class. The dataset structure is in the `data/fruits` folder. There are 6 categories of fruits: fresh apples, fresh oranges, fresh bananas, rotten apples, rotten oranges, and rotten bananas. This will mean that your model will require an output layer of 6 neurons to do the categorization successfully. You'll also need to compile the model with `categorical_crossentropy`, as we have more than two categories."
   ]
  },
  {
   "cell_type": "markdown",
   "metadata": {},
   "source": [
    "<img src=\"./images/fruits.png\" style=\"width: 600px;\">"
   ]
  },
  {
   "cell_type": "markdown",
   "metadata": {},
   "source": [
    "## Load ImageNet Base Model"
   ]
  },
  {
   "cell_type": "markdown",
   "metadata": {},
   "source": [
    "We encourage you to start with a model pretrained on ImageNet. Load the model with the correct weights, set an input shape, and choose to remove the last layers of the model. Remember that images have three dimensions: a height, and width, and a number of channels. Because these pictures are in color, there will be three channels for red, green, and blue. We've filled in the input shape for you. This cannot be changed or the assessment will fail. If you need a reference for setting up the pretrained model, please take a look at [notebook 05b](05b_presidential_doggy_door.ipynb) where we implemented transfer learning."
   ]
  },
  {
   "cell_type": "code",
   "execution_count": 4,
   "metadata": {},
   "outputs": [],
   "source": [
    "from tensorflow import keras\n",
    "\n",
    "base_model = keras.applications.VGG16(\n",
    "    weights='imagenet',\n",
    "    input_shape=(224, 224, 3),\n",
    "    include_top=False)"
   ]
  },
  {
   "cell_type": "markdown",
   "metadata": {},
   "source": [
    "## Freeze Base Model"
   ]
  },
  {
   "cell_type": "markdown",
   "metadata": {},
   "source": [
    "Next, we suggest freezing the base model, as done in [notebook 05b](05b_presidential_doggy_door.ipynb). This is done so that all the learning from the ImageNet dataset does not get destroyed in the initial training."
   ]
  },
  {
   "cell_type": "code",
   "execution_count": 9,
   "metadata": {},
   "outputs": [],
   "source": [
    "# Freeze base model\n",
    "base_model.trainable =False"
   ]
  },
  {
   "cell_type": "markdown",
   "metadata": {},
   "source": [
    "## Add Layers to Model"
   ]
  },
  {
   "cell_type": "markdown",
   "metadata": {},
   "source": [
    "Now it's time to add layers to the pretrained model. [Notebook 05b](05b_presidential_doggy_door.ipynb) can be used as a guide. Pay close attention to the last dense layer and make sure it has the correct number of neurons to classify the different types of fruit."
   ]
  },
  {
   "cell_type": "code",
   "execution_count": 10,
   "metadata": {},
   "outputs": [],
   "source": [
    "# Create inputs with correct shape\n",
    "inputs = keras.Input(shape=(224, 224, 3))\n",
    "\n",
    "x = base_model(inputs, training=False)\n",
    "\n",
    "# Add pooling layer or flatten layer\n",
    "x = keras.layers.GlobalAveragePooling2D()(x)\n",
    "\n",
    "# Add final dense layer\n",
    "outputs = keras.layers.Dense(6, activation = 'softmax')(x)\n",
    "\n",
    "# Combine inputs and outputs to create model\n",
    "model = keras.Model(inputs, outputs)"
   ]
  },
  {
   "cell_type": "code",
   "execution_count": 11,
   "metadata": {},
   "outputs": [
    {
     "name": "stdout",
     "output_type": "stream",
     "text": [
      "Model: \"model\"\n",
      "_________________________________________________________________\n",
      "Layer (type)                 Output Shape              Param #   \n",
      "=================================================================\n",
      "input_3 (InputLayer)         [(None, 224, 224, 3)]     0         \n",
      "_________________________________________________________________\n",
      "vgg16 (Model)                (None, 7, 7, 512)         14714688  \n",
      "_________________________________________________________________\n",
      "global_average_pooling2d (Gl (None, 512)               0         \n",
      "_________________________________________________________________\n",
      "dense (Dense)                (None, 6)                 3078      \n",
      "=================================================================\n",
      "Total params: 14,717,766\n",
      "Trainable params: 3,078\n",
      "Non-trainable params: 14,714,688\n",
      "_________________________________________________________________\n"
     ]
    }
   ],
   "source": [
    "model.summary()"
   ]
  },
  {
   "cell_type": "markdown",
   "metadata": {},
   "source": [
    "## Compile Model"
   ]
  },
  {
   "cell_type": "markdown",
   "metadata": {},
   "source": [
    "Now it's time to compile the model with loss and metrics options. Remember that we're training on a number of different categories, rather than a binary classification problem."
   ]
  },
  {
   "cell_type": "code",
   "execution_count": 12,
   "metadata": {},
   "outputs": [],
   "source": [
    "model.compile(loss=keras.losses.BinaryCrossentropy(from_logits=True), \n",
    "              metrics=[keras.metrics.BinaryAccuracy()])"
   ]
  },
  {
   "cell_type": "markdown",
   "metadata": {},
   "source": [
    "## Augment the Data"
   ]
  },
  {
   "cell_type": "markdown",
   "metadata": {},
   "source": [
    "If you'd like, try to augment the data to improve the dataset. Feel free to look at [notebook 04a](04a_asl_augmentation.ipynb) and [notebook 05b](05b_presidential_doggy_door.ipynb) for augmentation examples. There is also documentation for the [Keras ImageDataGenerator class](https://keras.io/api/preprocessing/image/#imagedatagenerator-class). This step is optional, but it may be helpful to get to 92% accuracy."
   ]
  },
  {
   "cell_type": "code",
   "execution_count": 13,
   "metadata": {},
   "outputs": [],
   "source": [
    "from tensorflow.keras.preprocessing.image import ImageDataGenerator\n",
    "transformation_ratio = 0.05\n",
    "datagen = ImageDataGenerator(rescale=1. / 255,\n",
    "                             validation_split = 0.2,\n",
    "                             rotation_range=transformation_ratio,\n",
    "                             shear_range=transformation_ratio,\n",
    "                             zoom_range=transformation_ratio,\n",
    "                             cval=transformation_ratio,\n",
    "                             horizontal_flip=True,\n",
    "                             vertical_flip=True)"
   ]
  },
  {
   "cell_type": "markdown",
   "metadata": {},
   "source": [
    "## Load Dataset"
   ]
  },
  {
   "cell_type": "markdown",
   "metadata": {},
   "source": [
    "Now it's time to load the train and validation datasets. Pick the right folders, as well as the right `target_size` of the images (it needs to match the height and width input of the model you've created). For a reference, check out [notebook 05b](05b_presidential_doggy_door.ipynb)."
   ]
  },
  {
   "cell_type": "code",
   "execution_count": 14,
   "metadata": {},
   "outputs": [
    {
     "name": "stdout",
     "output_type": "stream",
     "text": [
      "Found 1182 images belonging to 6 classes.\n",
      "Found 329 images belonging to 6 classes.\n"
     ]
    }
   ],
   "source": [
    "# load and iterate training dataset\n",
    "train_it = datagen.flow_from_directory('data/fruits/train/', \n",
    "                                       target_size=(224, 224), \n",
    "                                       color_mode='rgb', \n",
    "                                       class_mode=\"categorical\")\n",
    "# load and iterate validation dataset\n",
    "valid_it = datagen.flow_from_directory('data/fruits/valid/', \n",
    "                                      target_size=(224, 224), \n",
    "                                      color_mode='rgb', \n",
    "                                      class_mode=\"categorical\")"
   ]
  },
  {
   "cell_type": "markdown",
   "metadata": {},
   "source": [
    "## Train the Model"
   ]
  },
  {
   "cell_type": "markdown",
   "metadata": {},
   "source": [
    "Time to train the model! Pass the `train` and `valid` iterators into the `fit` function, as well as setting the desired number of epochs."
   ]
  },
  {
   "cell_type": "code",
   "execution_count": 15,
   "metadata": {},
   "outputs": [
    {
     "name": "stdout",
     "output_type": "stream",
     "text": [
      "Epoch 1/16\n",
      "37/36 [==============================] - 29s 777ms/step - loss: 0.7441 - binary_accuracy: 0.8395 - val_loss: 0.7376 - val_binary_accuracy: 0.8566\n",
      "Epoch 2/16\n",
      "37/36 [==============================] - 19s 520ms/step - loss: 0.7354 - binary_accuracy: 0.8603 - val_loss: 0.7290 - val_binary_accuracy: 0.8703\n",
      "Epoch 3/16\n",
      "37/36 [==============================] - 19s 520ms/step - loss: 0.7282 - binary_accuracy: 0.8687 - val_loss: 0.7233 - val_binary_accuracy: 0.8820\n",
      "Epoch 4/16\n",
      "37/36 [==============================] - 19s 513ms/step - loss: 0.7218 - binary_accuracy: 0.8766 - val_loss: 0.7161 - val_binary_accuracy: 0.8870\n",
      "Epoch 5/16\n",
      "37/36 [==============================] - 19s 519ms/step - loss: 0.7160 - binary_accuracy: 0.8842 - val_loss: 0.7129 - val_binary_accuracy: 0.8860\n",
      "Epoch 6/16\n",
      "37/36 [==============================] - 19s 516ms/step - loss: 0.7104 - binary_accuracy: 0.8914 - val_loss: 0.7067 - val_binary_accuracy: 0.8972\n",
      "Epoch 7/16\n",
      "37/36 [==============================] - 19s 517ms/step - loss: 0.7055 - binary_accuracy: 0.8965 - val_loss: 0.6998 - val_binary_accuracy: 0.9022\n",
      "Epoch 8/16\n",
      "37/36 [==============================] - 19s 519ms/step - loss: 0.7010 - binary_accuracy: 0.9009 - val_loss: 0.7003 - val_binary_accuracy: 0.8992\n",
      "Epoch 9/16\n",
      "37/36 [==============================] - 19s 514ms/step - loss: 0.6972 - binary_accuracy: 0.9106 - val_loss: 0.6952 - val_binary_accuracy: 0.9083\n",
      "Epoch 10/16\n",
      "37/36 [==============================] - 19s 513ms/step - loss: 0.6941 - binary_accuracy: 0.9146 - val_loss: 0.6926 - val_binary_accuracy: 0.9154\n",
      "Epoch 11/16\n",
      "37/36 [==============================] - 19s 507ms/step - loss: 0.6908 - binary_accuracy: 0.9220 - val_loss: 0.6878 - val_binary_accuracy: 0.9276\n",
      "Epoch 12/16\n",
      "37/36 [==============================] - 19s 516ms/step - loss: 0.6881 - binary_accuracy: 0.9299 - val_loss: 0.6867 - val_binary_accuracy: 0.9260\n",
      "Epoch 13/16\n",
      "37/36 [==============================] - 19s 514ms/step - loss: 0.6857 - binary_accuracy: 0.9370 - val_loss: 0.6846 - val_binary_accuracy: 0.9341\n",
      "Epoch 14/16\n",
      "37/36 [==============================] - 19s 517ms/step - loss: 0.6831 - binary_accuracy: 0.9389 - val_loss: 0.6826 - val_binary_accuracy: 0.9321\n",
      "Epoch 15/16\n",
      "37/36 [==============================] - 19s 515ms/step - loss: 0.6812 - binary_accuracy: 0.9415 - val_loss: 0.6824 - val_binary_accuracy: 0.9352\n",
      "Epoch 16/16\n",
      "37/36 [==============================] - 19s 514ms/step - loss: 0.6792 - binary_accuracy: 0.9459 - val_loss: 0.6805 - val_binary_accuracy: 0.9422\n"
     ]
    },
    {
     "data": {
      "text/plain": [
       "<tensorflow.python.keras.callbacks.History at 0x7f6458adc400>"
      ]
     },
     "execution_count": 15,
     "metadata": {},
     "output_type": "execute_result"
    }
   ],
   "source": [
    "model.fit(train_it,\n",
    "          validation_data=valid_it,\n",
    "          steps_per_epoch=train_it.samples/train_it.batch_size,\n",
    "          validation_steps=valid_it.samples/valid_it.batch_size,\n",
    "          epochs=16)"
   ]
  },
  {
   "cell_type": "markdown",
   "metadata": {},
   "source": [
    "## Unfreeze Model for Fine Tuning"
   ]
  },
  {
   "cell_type": "markdown",
   "metadata": {},
   "source": [
    "If you have reached 92% validation accuracy already, this next step is optional. If not, we suggest fine tuning the model with a very low learning rate."
   ]
  },
  {
   "cell_type": "code",
   "execution_count": 16,
   "metadata": {},
   "outputs": [],
   "source": [
    "# Unfreeze the base model\n",
    "base_model.trainable = True\n",
    "\n",
    "# Compile the model with a low learning rate\n",
    "model.compile(optimizer=keras.optimizers.RMSprop(learning_rate = .00001),  # Very low learning rate\n",
    "              loss=keras.losses.BinaryCrossentropy(from_logits=True),\n",
    "              metrics=[keras.metrics.BinaryAccuracy()])"
   ]
  },
  {
   "cell_type": "code",
   "execution_count": 17,
   "metadata": {},
   "outputs": [
    {
     "name": "stdout",
     "output_type": "stream",
     "text": [
      "Epoch 1/12\n",
      "37/36 [==============================] - 31s 833ms/step - loss: 0.6563 - binary_accuracy: 0.9567 - val_loss: 0.6480 - val_binary_accuracy: 0.9701\n",
      "Epoch 2/12\n",
      "37/36 [==============================] - 21s 572ms/step - loss: 0.6449 - binary_accuracy: 0.9735 - val_loss: 0.6395 - val_binary_accuracy: 0.9873\n",
      "Epoch 3/12\n",
      "37/36 [==============================] - 21s 557ms/step - loss: 0.6404 - binary_accuracy: 0.9818 - val_loss: 0.6399 - val_binary_accuracy: 0.9828\n",
      "Epoch 4/12\n",
      "37/36 [==============================] - 19s 525ms/step - loss: 0.6378 - binary_accuracy: 0.9866 - val_loss: 0.6374 - val_binary_accuracy: 0.9878\n",
      "Epoch 5/12\n",
      "37/36 [==============================] - 20s 532ms/step - loss: 0.6368 - binary_accuracy: 0.9876 - val_loss: 0.6410 - val_binary_accuracy: 0.9802\n",
      "Epoch 6/12\n",
      "37/36 [==============================] - 20s 534ms/step - loss: 0.6352 - binary_accuracy: 0.9913 - val_loss: 0.6425 - val_binary_accuracy: 0.9737\n",
      "Epoch 7/12\n",
      "37/36 [==============================] - 20s 531ms/step - loss: 0.6357 - binary_accuracy: 0.9903 - val_loss: 0.6354 - val_binary_accuracy: 0.9894\n",
      "Epoch 8/12\n",
      "37/36 [==============================] - 20s 554ms/step - loss: 0.6344 - binary_accuracy: 0.9924 - val_loss: 0.6338 - val_binary_accuracy: 0.9939\n",
      "Epoch 9/12\n",
      "37/36 [==============================] - 20s 545ms/step - loss: 0.6341 - binary_accuracy: 0.9927 - val_loss: 0.6346 - val_binary_accuracy: 0.9899\n",
      "Epoch 10/12\n",
      "37/36 [==============================] - 20s 547ms/step - loss: 0.6338 - binary_accuracy: 0.9922 - val_loss: 0.6374 - val_binary_accuracy: 0.9858\n",
      "Epoch 11/12\n",
      "37/36 [==============================] - 20s 550ms/step - loss: 0.6322 - binary_accuracy: 0.9961 - val_loss: 0.6352 - val_binary_accuracy: 0.9909\n",
      "Epoch 12/12\n",
      "37/36 [==============================] - 20s 547ms/step - loss: 0.6328 - binary_accuracy: 0.9956 - val_loss: 0.6343 - val_binary_accuracy: 0.9909\n"
     ]
    },
    {
     "data": {
      "text/plain": [
       "<tensorflow.python.keras.callbacks.History at 0x7f644383a588>"
      ]
     },
     "execution_count": 17,
     "metadata": {},
     "output_type": "execute_result"
    }
   ],
   "source": [
    "model.fit(train_it,\n",
    "          validation_data=valid_it,\n",
    "          steps_per_epoch=train_it.samples/train_it.batch_size,\n",
    "          validation_steps=valid_it.samples/valid_it.batch_size,\n",
    "          epochs=12)"
   ]
  },
  {
   "cell_type": "markdown",
   "metadata": {},
   "source": [
    "## Evaluate the Model"
   ]
  },
  {
   "cell_type": "markdown",
   "metadata": {},
   "source": [
    "Hopefully, you now have a model that has a validation accuracy of 92% or higher. If not, you may want to go back and either run more epochs of training, or adjust your data augmentation. \n",
    "\n",
    "Once you are satisfied with the validation accuracy, evaluate the model by executing the following cell. The evaluate function will return a tuple, where the first value is your loss, and the second value is your accuracy. To pass, the model will need have an accuracy value of `92% or higher`. "
   ]
  },
  {
   "cell_type": "code",
   "execution_count": 18,
   "metadata": {},
   "outputs": [
    {
     "name": "stdout",
     "output_type": "stream",
     "text": [
      "11/10 [================================] - 4s 331ms/step - loss: 0.6340 - binary_accuracy: 0.9919\n"
     ]
    },
    {
     "data": {
      "text/plain": [
       "[0.6340367197990417, 0.9918946623802185]"
      ]
     },
     "execution_count": 18,
     "metadata": {},
     "output_type": "execute_result"
    }
   ],
   "source": [
    "model.evaluate(valid_it, steps=valid_it.samples/valid_it.batch_size)"
   ]
  },
  {
   "cell_type": "markdown",
   "metadata": {},
   "source": [
    "## Run the Assessment"
   ]
  },
  {
   "cell_type": "markdown",
   "metadata": {},
   "source": [
    "To assess your model run the following two cells.\n",
    "\n",
    "**NOTE:** `run_assessment` assumes your model is named `model` and your validation data iterator is called `valid_it`. If for any reason you have modified these variable names, please update the names of the arguments passed to `run_assessment`."
   ]
  },
  {
   "cell_type": "code",
   "execution_count": 19,
   "metadata": {},
   "outputs": [],
   "source": [
    "from run_assessment import run_assessment"
   ]
  },
  {
   "cell_type": "code",
   "execution_count": 20,
   "metadata": {},
   "outputs": [
    {
     "name": "stdout",
     "output_type": "stream",
     "text": [
      "Evaluating model 5 times to obtain average accuracy...\n",
      "\n",
      "11/10 [================================] - 4s 332ms/step - loss: 0.6347 - binary_accuracy: 0.9909\n",
      "11/10 [================================] - 4s 339ms/step - loss: 0.6348 - binary_accuracy: 0.9909\n",
      "11/10 [================================] - 4s 335ms/step - loss: 0.6345 - binary_accuracy: 0.9919\n",
      "11/10 [================================] - 4s 366ms/step - loss: 0.6343 - binary_accuracy: 0.9919\n",
      "11/10 [================================] - 4s 327ms/step - loss: 0.6344 - binary_accuracy: 0.9919\n",
      "\n",
      "Accuracy required to pass the assessment is 0.92 or greater.\n",
      "Your average accuracy is 0.9915.\n",
      "\n",
      "Congratulations! You passed the assessment!\n",
      "See instructions below to generate a certificate.\n"
     ]
    }
   ],
   "source": [
    "run_assessment(model, valid_it)"
   ]
  },
  {
   "cell_type": "markdown",
   "metadata": {},
   "source": [
    "## Generate a Certificate"
   ]
  },
  {
   "cell_type": "markdown",
   "metadata": {},
   "source": [
    "If you passed the assessment, please return to the course page (shown below) and click the \"ASSESS TASK\" button, which will generate your certificate for the course."
   ]
  },
  {
   "cell_type": "markdown",
   "metadata": {},
   "source": [
    "<img src=\"./images/assess_task.png\" style=\"width: 800px;\">"
   ]
  },
  {
   "cell_type": "markdown",
   "metadata": {},
   "source": [
    "<center><a href=\"https://www.nvidia.com/dli\"> <img src=\"images/DLI_Header.png\" alt=\"Header\" style=\"width: 400px;\"/> </a></center>"
   ]
  }
 ],
 "metadata": {
  "kernelspec": {
   "display_name": "Python 3",
   "language": "python",
   "name": "python3"
  },
  "language_info": {
   "codemirror_mode": {
    "name": "ipython",
    "version": 3
   },
   "file_extension": ".py",
   "mimetype": "text/x-python",
   "name": "python",
   "nbconvert_exporter": "python",
   "pygments_lexer": "ipython3",
   "version": "3.6.9"
  }
 },
 "nbformat": 4,
 "nbformat_minor": 4
}
